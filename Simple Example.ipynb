{
 "cells": [
  {
   "cell_type": "markdown",
   "metadata": {},
   "source": [
    "## Difference Project"
   ]
  },
  {
   "cell_type": "markdown",
   "metadata": {},
   "source": [
    "Some useful utility function."
   ]
  },
  {
   "cell_type": "code",
   "execution_count": 1,
   "metadata": {
    "collapsed": false
   },
   "outputs": [
    {
     "name": "stdout",
     "output_type": "stream",
     "text": [
      "SoftThreshold(3,1) => 2\n",
      "SoftThreshold(-3,1) => -2\n",
      "SoftThreshold(-0.5,1) => 0.0\n"
     ]
    }
   ],
   "source": [
    "function SoftThreshold(z, lambda)\n",
    "    abs(z) < lambda ? 0. : z > 0 ? z - lambda : z + lambda\n",
    "end\n",
    "\n",
    "@show SoftThreshold(3, 1)\n",
    "@show SoftThreshold(-3, 1)\n",
    "@show SoftThreshold(-0.5, 1);"
   ]
  },
  {
   "cell_type": "markdown",
   "metadata": {},
   "source": [
    "Generate data and compute precision matrices"
   ]
  },
  {
   "cell_type": "code",
   "execution_count": 100,
   "metadata": {
    "collapsed": false
   },
   "outputs": [],
   "source": [
    "p = 200\n",
    "Sigmax = eye(p,p)\n",
    "Sigmay = zeros(p,p)\n",
    "rho = 0.7\n",
    "for i=1:p\n",
    "    for j=1:p\n",
    "        Sigmay[i,j]=rho^abs(i-j)\n",
    "    end\n",
    "end\n",
    "\n",
    "sqmy = sqrtm(Sigmay)\n",
    "\n",
    "n = 1000\n",
    "X = randn(n,p)\n",
    "Y = randn(n,p) * sqmy;\n",
    "\n",
    "hSx = cov(X, corrected=false)\n",
    "hSy = cov(Y, corrected=false);"
   ]
  },
  {
   "cell_type": "code",
   "execution_count": 101,
   "metadata": {
    "collapsed": false
   },
   "outputs": [
    {
     "data": {
      "text/plain": [
       "5x5 Array{Float64,2}:\n",
       " -0.960784      1.37255      -8.59879e-17  -1.6218e-16    2.76467e-16\n",
       "  1.37255      -1.92157       1.37255       2.28575e-16  -6.00827e-16\n",
       " -1.11022e-16   1.37255      -1.92157       1.37255       4.76743e-16\n",
       " -1.88738e-16   1.11022e-16   1.37255      -1.92157       1.37255    \n",
       "  4.996e-16    -6.32827e-16   1.11022e-16   1.37255      -1.92157    "
      ]
     },
     "execution_count": 101,
     "metadata": {},
     "output_type": "execute_result"
    }
   ],
   "source": [
    "B = inv(Sigmax) - inv(Sigmay)\n",
    "B[1:5,1:5]"
   ]
  },
  {
   "cell_type": "markdown",
   "metadata": {},
   "source": [
    "Solve the problem using Convex and Mosek for comparison purposes"
   ]
  },
  {
   "cell_type": "code",
   "execution_count": 6,
   "metadata": {
    "collapsed": true
   },
   "outputs": [],
   "source": [
    "using Convex\n",
    "using Mosek\n",
    "\n",
    "solver = MosekSolver(LOG=1)\n",
    "set_default_solver(solver);"
   ]
  },
  {
   "cell_type": "code",
   "execution_count": 7,
   "metadata": {
    "collapsed": true
   },
   "outputs": [
    {
     "name": "stdout",
     "output_type": "stream",
     "text": [
      "Computer\n",
      "  Platform               : Linux/64-X86    \n",
      "  Cores                  : 2               \n",
      "\n",
      "Problem\n",
      "  Name                   :                 \n",
      "  Objective sense        : min             \n",
      "  Type                   : CONIC (conic optimization problem)\n",
      "  Constraints            : 3606            \n",
      "  Cones                  : 2               \n",
      "  Scalar variables       : 2707            \n",
      "  Matrix variables       : 0               \n",
      "  Integer variables      : 0               \n",
      "\n",
      "Optimizer started.\n",
      "Conic interior-point optimizer started.\n",
      "Presolve started.\n",
      "Linear dependency checker started.\n",
      "Linear dependency checker terminated.\n",
      "Eliminator started.\n",
      "Total number of eliminations : 901\n",
      "Eliminator terminated.\n",
      "Eliminator started.\n",
      "Total number of eliminations : 901\n",
      "Eliminator terminated.\n",
      "Eliminator - tries                  : 2                 time                   : 0.00            \n",
      "Eliminator - elim's                 : 901             \n",
      "Lin. dep.  - tries                  : 1                 time                   : 0.01            \n",
      "Lin. dep.  - number                 : 0               \n",
      "Presolve terminated. Time: 0.27    \n",
      "Optimizer  - threads                : 2               \n",
      "Optimizer  - solved problem         : the primal      \n",
      "Optimizer  - Constraints            : 2209\n",
      "Optimizer  - Cones                  : 2\n",
      "Optimizer  - Scalar variables       : 3577              conic                  : 904             \n",
      "Optimizer  - Semi-definite variables: 0                 scalarized             : 0               \n",
      "Factor     - setup time             : 0.94              dense det. time        : 0.08            \n",
      "Factor     - ML order time          : 0.00              GP order time          : 0.00            \n",
      "Factor     - nonzeros before factor : 7.93e+05          after factor           : 1.18e+06        \n",
      "Factor     - dense dim.             : 875               flops                  : 9.16e+08        \n",
      "ITE PFEAS    DFEAS    GFEAS    PRSTATUS   POBJ              DOBJ              MU       TIME  \n",
      "0   7.5e-01  1.0e+00  9.1e+01  0.00e+00   7.215000000e+02   -5.000000000e-01  1.0e+00  1.29  \n",
      "1   7.2e-01  9.6e-01  8.8e+01  1.73e+01   4.252842860e+02   -1.050503461e+00  9.6e-01  1.40  \n",
      "2   6.8e-01  9.1e-01  8.3e+01  9.94e+00   2.555492146e+02   -2.150696447e+00  9.1e-01  1.51  \n",
      "3   6.4e-01  8.5e-01  7.8e+01  6.36e+00   1.656765531e+02   -2.459620991e+00  8.5e-01  1.62  \n",
      "4   5.9e-01  7.9e-01  7.2e+01  4.43e+00   1.198890924e+02   -2.838440107e+00  7.9e-01  1.73  \n",
      "5   5.4e-01  7.2e-01  6.6e+01  3.49e+00   9.180272061e+01   -2.800083810e+00  7.2e-01  1.84  \n",
      "6   3.3e-01  4.4e-01  4.0e+01  2.96e+00   3.032063235e+01   -3.038608817e+00  4.4e-01  1.95  \n",
      "7   2.8e-01  3.7e-01  3.4e+01  1.64e+00   2.495123645e+01   -2.354595422e+00  3.7e-01  2.06  \n",
      "8   2.3e-01  3.1e-01  2.8e+01  1.57e+00   1.945514702e+01   -2.236411020e+00  3.1e-01  2.16  \n",
      "9   1.7e-01  2.3e-01  2.1e+01  1.33e+00   1.464000838e+01   -1.286934862e+00  2.3e-01  2.27  \n",
      "10  1.2e-01  1.6e-01  1.5e+01  1.30e+00   1.006068008e+01   -1.203838763e+00  1.6e-01  2.38  \n",
      "11  8.0e-02  1.1e-01  9.7e+00  1.08e+00   7.068160759e+00   -4.334346253e-01  1.1e-01  2.49  \n",
      "12  3.8e-02  5.0e-02  4.6e+00  1.13e+00   3.215772890e+00   -4.007218793e-01  5.0e-02  2.59  \n",
      "13  1.7e-02  2.3e-02  2.1e+00  9.70e-01   1.554941548e+00   -1.845844311e-01  2.3e-02  2.70  \n",
      "14  2.9e-03  3.9e-03  3.5e-01  9.96e-01   2.036743500e-01   -1.312115310e-01  3.9e-03  2.81  \n",
      "15  2.5e-04  3.3e-04  3.1e-02  9.97e-01   -8.872766595e-02  -1.179792048e-01  3.3e-04  2.92  \n",
      "16  1.3e-05  1.7e-05  1.6e-03  1.00e+00   -1.156528143e-01  -1.171537514e-01  1.7e-05  3.03  \n",
      "17  6.6e-07  8.8e-07  8.0e-05  1.00e+00   -1.170346694e-01  -1.171114679e-01  8.8e-07  3.14  \n",
      "18  4.0e-08  5.3e-08  4.9e-06  1.00e+00   -1.171046671e-01  -1.171093355e-01  5.3e-08  3.25  \n",
      "19  2.7e-08  3.6e-08  3.3e-06  1.00e+00   -1.171061073e-01  -1.171092851e-01  3.6e-08  3.36  \n",
      "20  2.6e-08  3.5e-08  3.2e-06  9.99e-01   -1.171062496e-01  -1.171092803e-01  3.5e-08  3.48  \n",
      "21  2.6e-08  3.5e-08  3.2e-06  1.00e+00   -1.171062499e-01  -1.171092803e-01  3.5e-08  3.66  \n",
      "22  2.6e-08  3.4e-08  3.1e-06  1.00e+00   -1.171062616e-01  -1.171092798e-01  3.5e-08  3.80  \n",
      "23  2.6e-08  3.4e-08  3.1e-06  1.00e+00   -1.171062616e-01  -1.171092798e-01  3.5e-08  3.92  \n",
      "Interior-point optimizer terminated. Time: 3.92. \n",
      "\n",
      "Optimizer terminated. Time: 3.96    \n",
      "elapsed time: 9.628028675 seconds (692600548 bytes allocated, 2.80% gc time)\n"
     ]
    },
    {
     "data": {
      "text/plain": [
       "30x30 Array{Float64,2}:\n",
       " -0.0905859     0.363101    …   2.46919e-8  2.54151e-8  1.70861e-8\n",
       "  0.363101     -1.34289e-7      1.86669e-8  1.55938e-8  6.88327e-9\n",
       "  1.35761e-8    2.32714e-8      1.16153e-8  1.23632e-8  3.91681e-8\n",
       "  2.03284e-8    3.07495e-8      2.50669e-8  1.68967e-8  1.22578e-8\n",
       "  2.93835e-8    1.92833e-8      1.99163e-8  2.6433e-9   1.8519e-8 \n",
       "  1.37238e-8    2.9293e-8   …   3.6501e-8   3.55841e-8  8.4374e-9 \n",
       "  1.04088e-8    1.53266e-8      1.82709e-8  1.43923e-8  1.799e-8  \n",
       "  1.42638e-8    1.86234e-8     -1.02943e-8  1.98548e-8  1.654e-8  \n",
       "  2.4799e-8     3.95952e-8      1.12199e-8  2.30331e-8  2.19327e-8\n",
       "  1.50942e-8    1.9854e-8       1.37287e-8  1.51906e-8  2.3015e-8 \n",
       "  2.5422e-8     1.64783e-8  …   1.91705e-8  2.17802e-8  5.64587e-8\n",
       "  1.81276e-8    2.22423e-8      2.59481e-8  2.60715e-8  2.97696e-8\n",
       "  4.50347e-10   2.45227e-8      5.12902e-9  2.32278e-8  2.438e-8  \n",
       "  ⋮                         ⋱                                     \n",
       "  2.43916e-8    2.5174e-8       2.10296e-8  2.05236e-8  3.84455e-8\n",
       "  8.65256e-9    2.72912e-8      2.21378e-8  1.91092e-8  1.88427e-8\n",
       "  2.74321e-8    2.24652e-8  …   2.14825e-8  2.12416e-8  2.76094e-8\n",
       "  2.12253e-8    8.61015e-9      2.07085e-8  2.42437e-8  8.03206e-9\n",
       "  2.7295e-8     2.88162e-9      4.07486e-9  1.0288e-8   3.92006e-8\n",
       " -9.66188e-10   1.83694e-8      2.07221e-8  2.3166e-8   1.53741e-8\n",
       " -2.38784e-8    2.13786e-8      3.89824e-8  2.00109e-8  1.84232e-8\n",
       "  2.269e-8      2.10832e-8  …   2.03767e-8  2.72638e-8  3.25635e-8\n",
       "  2.85786e-8    1.74818e-8      2.25674e-8  2.18426e-8  2.67911e-8\n",
       "  2.46931e-8    1.86675e-8      2.64571e-8  2.19309e-8  2.19506e-8\n",
       "  2.54158e-8    1.5594e-8       2.19315e-8  2.16684e-8  1.79974e-8\n",
       "  1.70853e-8    6.8814e-9       2.19519e-8  1.7998e-8   2.44094e-8"
      ]
     },
     "execution_count": 7,
     "metadata": {},
     "output_type": "execute_result"
    }
   ],
   "source": [
    "lambda = 0.2\n",
    "\n",
    "Delta = Variable(p,p);\n",
    "prob = minimize(quad_form(vec(Delta), kron(hSy,hSx)) / 2 - trace((hSy-hSx)*Delta) +  lambda * norm(vec(Delta), 1))\n",
    "prob.constraints += [Delta == Delta']\n",
    "@time solve!(prob)\n",
    "\n",
    "sol = Delta.value"
   ]
  },
  {
   "cell_type": "markdown",
   "metadata": {},
   "source": [
    "Shooting algorithm for the objective"
   ]
  },
  {
   "cell_type": "code",
   "execution_count": 61,
   "metadata": {
    "collapsed": false
   },
   "outputs": [
    {
     "data": {
      "text/plain": [
       "DiffCovShooting (generic function with 1 method)"
      ]
     },
     "execution_count": 61,
     "metadata": {},
     "output_type": "execute_result"
    }
   ],
   "source": [
    "function DiffCovShooting(hSx, hSy, lambda, Ups; maxIter=2000, optTol=1e-7)\n",
    "    p = size(hSx, 1)\n",
    "        \n",
    "    Delta = zeros(p, p)\n",
    "    A = zeros(p, p)\n",
    "    \n",
    "    iter = 1;\n",
    "    while iter < maxIter    \n",
    "        if mod(iter, 10) == 0\n",
    "            @show \"outer $iter\"\n",
    "        end\n",
    "    \n",
    "        fDone = true\n",
    "        for a=1:p\n",
    "            for b=a:p\n",
    "                if a==b\n",
    "                    # diagonal elements\n",
    "                    x0 = hSx[a,a]*hSy[a,a]/2\n",
    "                    x1 = A[a,a] - hSy[a,a] + hSx[a,a]\n",
    "                    tmp = SoftThreshold(-x1/x0/2 + Delta[a,b], lambda*Ups[a,b] / 2 / x0)\n",
    "                else\n",
    "                    # off-diagonal elements\n",
    "                    x0 = (hSx[a,a]*hSy[b,b] + hSx[b,b]*hSy[a,a])/2 + hSx[a,b]*hSy[a,b]\n",
    "                    x1 = A[a,b] + A[b,a] - 2*(hSy[a,b] - hSx[a,b])\n",
    "                    tmp = SoftThreshold(-x1/x0/2 + Delta[a,b], lambda*Ups[a,b] / x0)\n",
    "                end\n",
    "                \n",
    "                h = tmp - Delta[a,b]\n",
    "                Delta[a,b] = tmp\n",
    "                Delta[b,a] = tmp\n",
    "                if abs(h) > optTol\n",
    "                    fDone = false\n",
    "                end\n",
    "                for j=1:p\n",
    "                    for k=1:p\n",
    "                        if a == b\n",
    "                            A[j,k] = A[j,k] + h * hSx[j,a]*hSy[a,k]\n",
    "                        else                            \n",
    "                            A[j,k] = A[j,k] + h * (hSx[j,a]*hSy[b,k] + hSx[j,b]*hSy[a,k])\n",
    "                        end\n",
    "                    end\n",
    "                end\n",
    "            end\n",
    "        end\n",
    "        \n",
    "        iter = iter + 1;\n",
    "        if fDone\n",
    "            break\n",
    "        end\n",
    "    end\n",
    "    Delta\n",
    "end"
   ]
  },
  {
   "cell_type": "code",
   "execution_count": 102,
   "metadata": {
    "collapsed": false
   },
   "outputs": [
    {
     "name": "stdout",
     "output_type": "stream",
     "text": [
      "\"outer $(iter)\" => \"outer 10\"\n",
      "\"outer $(iter)\" => \"outer 20\"\n",
      "\"outer $(iter)\" => \"outer 30\"\n",
      "elapsed time: 249.31510672 seconds (1003120 bytes allocated)\n"
     ]
    },
    {
     "data": {
      "text/plain": [
       "200x200 Array{Float64,2}:\n",
       " -0.16258    0.582703   0.0       …   0.0          0.0        0.0       \n",
       "  0.582703  -0.63669    0.72368       0.0          0.0        0.0       \n",
       "  0.0        0.72368   -0.971444      0.0          0.0        0.0       \n",
       "  0.0        0.0        0.763628      0.0          0.0        0.0       \n",
       "  0.0        0.0        0.0           0.0          0.0        0.0       \n",
       "  0.0        0.0        0.0       …   0.0          0.0        0.0       \n",
       "  0.0        0.0        0.0           0.0          0.0        0.0       \n",
       "  0.0        0.0        0.0           0.0          0.0        0.0       \n",
       "  0.0        0.0        0.0           0.0          0.0        0.0       \n",
       "  0.0        0.0        0.0           0.0          0.0        0.0       \n",
       "  0.0        0.0        0.0       …   0.0          0.0        0.0       \n",
       "  0.0        0.0        0.0           0.0          0.0        0.0       \n",
       "  0.0        0.0        0.0           0.0          0.0        0.0       \n",
       "  ⋮                               ⋱                                     \n",
       "  0.0        0.0        0.0           0.0          0.0        0.0       \n",
       "  0.0        0.0        0.0           0.0          0.0        0.0       \n",
       "  0.0        0.0        0.0       …   0.0          0.0        0.0       \n",
       "  0.0        0.0        0.0           0.0          0.0        0.0       \n",
       "  0.0        0.0        0.0           0.0          0.0        0.0       \n",
       "  0.0        0.0        0.0           0.0          0.0        0.0       \n",
       "  0.0        0.0        0.0           0.0          0.0        0.0       \n",
       "  0.0        0.0        0.0       …   0.0          0.0        0.0       \n",
       "  0.0        0.0        0.0           0.80239      0.0        0.0       \n",
       "  0.0        0.0        0.0          -0.905627     0.763004   0.00506813\n",
       "  0.0        0.0        0.0           0.763004    -0.759454   0.545131  \n",
       "  0.0        0.0        0.0           0.00506813   0.545131  -0.193631  "
      ]
     },
     "execution_count": 102,
     "metadata": {},
     "output_type": "execute_result"
    }
   ],
   "source": [
    "lambda = 0.2\n",
    "@time solShoot = DiffCovShooting(hSx, hSy, lambda, ones(p,p))"
   ]
  },
  {
   "cell_type": "code",
   "execution_count": 92,
   "metadata": {
    "collapsed": false
   },
   "outputs": [
    {
     "data": {
      "text/plain": [
       "7x7 Array{Float64,2}:\n",
       " 0.0        0.363742   0.0        0.0        0.0        0.0  0.0\n",
       " 0.363742  -0.235062   0.323915   0.0        0.0        0.0  0.0\n",
       " 0.0        0.323915  -0.16835    0.353804   0.0        0.0  0.0\n",
       " 0.0        0.0        0.353804  -0.459889   0.474936   0.0  0.0\n",
       " 0.0        0.0        0.0        0.474936  -0.0387662  0.0  0.0\n",
       " 0.0        0.0        0.0        0.0        0.0        0.0  0.0\n",
       " 0.0        0.0        0.0        0.0        0.0        0.0  0.0"
      ]
     },
     "execution_count": 92,
     "metadata": {},
     "output_type": "execute_result"
    }
   ],
   "source": [
    "solShoot[1:7,1:7]"
   ]
  },
  {
   "cell_type": "code",
   "execution_count": 11,
   "metadata": {
    "collapsed": false
   },
   "outputs": [
    {
     "name": "stdout",
     "output_type": "stream",
     "text": [
      "(dot(vec(sol),kron(hSy,hSx) * vec(sol)) / 2 - trace((hSy - hSx) * sol)) + lambda * norm(vec(sol),1) => -0.11710607022184877\n",
      "(dot(vec(solShoot),kron(hSy,hSx) * vec(solShoot)) / 2 - trace((hSy - hSx) * solShoot)) + lambda * norm(vec(solShoot),1) => -0.11710919847566284\n"
     ]
    }
   ],
   "source": [
    "@show dot(vec(sol), kron(hSy,hSx)*vec(sol)) / 2 - trace((hSy-hSx)*sol) +  lambda * norm(vec(sol), 1)\n",
    "@show dot(vec(solShoot), kron(hSy,hSx)*vec(solShoot)) / 2 - trace((hSy-hSx)*solShoot) +  lambda * norm(vec(solShoot), 1);"
   ]
  },
  {
   "cell_type": "markdown",
   "metadata": {},
   "source": [
    "Implementation of the active shooting algorithm"
   ]
  },
  {
   "cell_type": "code",
   "execution_count": 109,
   "metadata": {
    "collapsed": false
   },
   "outputs": [
    {
     "data": {
      "text/plain": [
       "DiffCovActiveShooting (generic function with 1 method)"
      ]
     },
     "execution_count": 109,
     "metadata": {},
     "output_type": "execute_result"
    }
   ],
   "source": [
    "function updateDelta!(Delta, hSx, hSy, A, lambda; maxIter=2000, optTol=1e-7)    \n",
    "    # Delta is a sparse matrix stored in CSC format    \n",
    "    # only diagonal and lower triangular elements are used\n",
    "    \n",
    "    # extract fields from sparse matrix Delta \n",
    "    colptr = Delta.colptr\n",
    "    nzval = Delta.nzval\n",
    "    rowval = Delta.rowval\n",
    "    \n",
    "    p = size(Delta, 1)\n",
    "    \n",
    "    iter = 1\n",
    "    while iter <= maxIter\n",
    "       if mod(iter, 100) == 0\n",
    "            @show \"inner $iter\"\n",
    "        end\n",
    "        \n",
    "        fDone = true\n",
    "        for colInd=1:p\n",
    "            for j=colptr[colInd]:colptr[colInd+1]-1\n",
    "                rowInd = rowval[j]\n",
    "                \n",
    "                # a sanity check in \n",
    "                if rowInd < colInd\n",
    "                    continue\n",
    "                end\n",
    "                \n",
    "                if rowInd==colInd\n",
    "                    # diagonal elements\n",
    "                    x0 = hSx[rowInd,rowInd]*hSy[rowInd,rowInd]/2\n",
    "                    x1 = A[rowInd,rowInd] - hSy[rowInd,rowInd] + hSx[rowInd,rowInd]\n",
    "                    tmp = SoftThreshold(-x1/x0/2 + nzval[j], lambda[rowInd,colInd] / 2 / x0)\n",
    "                else\n",
    "                    # off-diagonal elements\n",
    "                    x0 = (hSx[rowInd,rowInd]*hSy[colInd,colInd] + hSx[colInd,colInd]*hSy[rowInd,rowInd])/2 \n",
    "                              + hSx[rowInd,colInd]*hSy[rowInd,colInd]\n",
    "                    x1 = A[rowInd,colInd] + A[colInd,rowInd] - 2*(hSy[rowInd,colInd] - hSx[rowInd,colInd])\n",
    "                    tmp = SoftThreshold(-x1/x0/2 + nzval[j], lambda[rowInd,colInd] / x0)\n",
    "                end\n",
    "                \n",
    "                # size of update\n",
    "                h = tmp - nzval[j]\n",
    "                # update is too big -- not done\n",
    "                if abs(h) > optTol\n",
    "                    fDone = false\n",
    "                end                \n",
    "                # update Delta\n",
    "                nzval[j] = tmp   \n",
    "                \n",
    "                # update A -- only active set\n",
    "                for ci=1:p\n",
    "                    for k=colptr[ci]:colptr[ci+1]-1\n",
    "                        ri = rowval[k]\n",
    "                        \n",
    "                        if rowInd == colInd                                     \n",
    "                            A[ri,ci] = A[ri,ci] + h * hSx[ri,rowInd]*hSy[rowInd,ci]\n",
    "                            if ri != ci\n",
    "                                A[ci,ri] = A[ci,ri] + h * hSx[ci,rowInd]*hSy[rowInd,ri]\n",
    "                            end\n",
    "                        else\n",
    "                            A[ri,ci] = A[ri,ci] + h * (hSx[ri,colInd]*hSy[rowInd,ci] + hSx[ri,rowInd]*hSy[colInd,ci])\n",
    "                            if ri != ci\n",
    "                                A[ci,ri] = A[ci,ri] + h * (hSx[ci,colInd]*hSy[rowInd,ri] + hSx[ci,rowInd]*hSy[colInd,ri])\n",
    "                            end                            \n",
    "                        end\n",
    "                    end\n",
    "                end   # end update A                \n",
    "            end\n",
    "        end            \n",
    "        \n",
    "        iter = iter + 1;\n",
    "        if fDone\n",
    "            break\n",
    "        end\n",
    "        \n",
    "    end  # while\n",
    "    \n",
    "    sparse(Delta)\n",
    "end\n",
    "\n",
    "function findViolator!(active_set, Delta, A, hSx, hSy, lambda; kktTol=1e-7)   \n",
    "    p = size(hSx, 1)\n",
    "    \n",
    "    tmp = abs((A + A') / 2 - (hSy - hSx)) - lambda\n",
    "    ind = indmax(tmp) \n",
    "    if tmp[ind] > kktTol\n",
    "        push!(active_set, ind)\n",
    "        Delta[ind] = eps()\n",
    "    else\n",
    "        ind = 0\n",
    "    end\n",
    "    \n",
    "    return ind    \n",
    "end\n",
    "\n",
    "function DiffCovActiveShooting(hSx, hSy, lambda; maxIter=1000, maxInnerIter=1000, optTol=1e-7, Delta = [])\n",
    "    p = size(hSx, 1)\n",
    "        \n",
    "    if isempty(Delta)\n",
    "        Delta = spzeros(p, p)\n",
    "        A = zeros(p, p)\n",
    "        \n",
    "        active_set = Array(Integer, 0)        \n",
    "        indAdd = findViolator!(active_set, Delta, A, hSx, hSy, lambda)    \n",
    "        if indAdd == 0\n",
    "            return Delta\n",
    "        end\n",
    "    else\n",
    "        lDelta = tril(Delta, -1)\n",
    "        dDelta = spdiagm(diag(Delta))\n",
    "        A = hSx * (lDelta + lDelta' + dDelta) * hSy\n",
    "        \n",
    "        # make sure Delta is lower triangular\n",
    "        Delta = lDelta + dDelta\n",
    "        active_set = find(Delta)\n",
    "    end     \n",
    "    \n",
    "    \n",
    "    \n",
    "    iter = 1;\n",
    "    while iter < maxIter    \n",
    "        if mod(iter, 100) == 0\n",
    "            @show \"outer $iter\"\n",
    "        end\n",
    "    \n",
    "        old_active_set = copy(active_set)\n",
    "        updateDelta!(Delta, hSx, hSy, A, lambda; maxIter=maxInnerIter, optTol=optTol)\n",
    "        active_set = find(Delta)\n",
    "        \n",
    "        # update A\n",
    "        lDelta = tril(Delta, -1)\n",
    "        dDelta = spdiagm(diag(Delta))\n",
    "        A = hSx * (lDelta + lDelta' + dDelta) * hSy\n",
    "        # add violating element into active set \n",
    "        indAdd = findViolator!(active_set, Delta, A, hSx, hSy, lambda)         \n",
    "        \n",
    "        if old_active_set == active_set\n",
    "            break\n",
    "        else\n",
    "        end       \n",
    "        \n",
    "        iter = iter + 1;\n",
    "        \n",
    "    end\n",
    "    Delta\n",
    "end"
   ]
  },
  {
   "cell_type": "code",
   "execution_count": 107,
   "metadata": {
    "collapsed": false
   },
   "outputs": [
    {
     "name": "stdout",
     "output_type": "stream",
     "text": [
      "\"outer $(iter)\" => \"outer 10\"\n",
      "\"outer $(iter)\" => \"outer 20\"\n",
      "\"outer $(iter)\" => \"outer 30\"\n",
      "\"outer $(iter)\" => \"outer 40\"\n",
      "\"outer $(iter)\" => \"outer 50\"\n",
      "\"outer $(iter)\" => \"outer 60\"\n",
      "\"outer $(iter)\" => \"outer 70\"\n",
      "\"outer $(iter)\" => \"outer 80\"\n",
      "\"outer $(iter)\" => \"outer 90\"\n",
      "\"outer $(iter)\" => \"outer 100\"\n",
      "\"outer $(iter)\" => \"outer 110\"\n",
      "\"outer $(iter)\" => \"outer 120\"\n",
      "\"outer $(iter)\" => \"outer 130\"\n",
      "\"outer $(iter)\" => \"outer 140\"\n",
      "\"outer $(iter)\" => \"outer 150\"\n",
      "\"outer $(iter)\" => \"outer 160\"\n",
      "\"outer $(iter)\" => \"outer 170\"\n",
      "\"outer $(iter)\" => \"outer 180\"\n",
      "\"outer $(iter)\" => \"outer 190\"\n",
      "\"outer $(iter)\" => \"outer 200\"\n",
      "\"outer $(iter)\" => \"outer 210\"\n",
      "\"outer $(iter)\" => \"outer 220\"\n",
      "\"outer $(iter)\" => \"outer 230\"\n",
      "\"outer $(iter)\" => \"outer 240\"\n",
      "\"outer $(iter)\" => \"outer 250\"\n",
      "\"outer $(iter)\" => \"outer 260\"\n",
      "\"outer $(iter)\" => \"outer 270\"\n",
      "\"outer $(iter)\" => \"outer 280\"\n",
      "\"outer $(iter)\" => \"outer 290\"\n",
      "\"outer $(iter)\" => \"outer 300\"\n",
      "\"outer $(iter)\" => \"outer 310\"\n",
      "\"outer $(iter)\" => \"outer 320\"\n",
      "\"outer $(iter)\" => \"outer 330\"\n",
      "\"outer $(iter)\" => \"outer 340\"\n",
      "\"outer $(iter)\" => \"outer 350\"\n",
      "\"outer $(iter)\" => \"outer 360\"\n",
      "\"outer $(iter)\" => \"outer 370\"\n",
      "\"outer $(iter)\" => \"outer 380\"\n",
      "\"outer $(iter)\" => \"outer 390\"\n",
      "\"outer $(iter)\" => \"outer 400\"\n",
      "\"outer $(iter)\" => \"outer 410\"\n",
      "\"outer $(iter)\" => \"outer 420\"\n",
      "\"outer $(iter)\" => \"outer 430\"\n",
      "elapsed time: 18.858832604 seconds (1290835308 bytes allocated, 4.81% gc time)\n"
     ]
    },
    {
     "data": {
      "text/plain": [
       "200x200 sparse matrix with 429 Float64 entries:\n",
       "\t[1  ,   1]  =  -0.16258\n",
       "\t[2  ,   1]  =  0.582703\n",
       "\t[2  ,   2]  =  -0.63669\n",
       "\t[3  ,   2]  =  0.72368\n",
       "\t[3  ,   3]  =  -0.971444\n",
       "\t[4  ,   3]  =  0.763628\n",
       "\t[113,   3]  =  0.0169449\n",
       "\t[4  ,   4]  =  -1.01247\n",
       "\t[5  ,   4]  =  0.840508\n",
       "\t[5  ,   5]  =  -0.809753\n",
       "\t⋮\n",
       "\t[196, 195]  =  0.717078\n",
       "\t[196, 196]  =  -0.827476\n",
       "\t[197, 196]  =  0.531696\n",
       "\t[197, 197]  =  -0.70556\n",
       "\t[198, 197]  =  0.80239\n",
       "\t[198, 198]  =  -0.905627\n",
       "\t[199, 198]  =  0.763004\n",
       "\t[200, 198]  =  0.00506813\n",
       "\t[199, 199]  =  -0.759454\n",
       "\t[200, 199]  =  0.545131\n",
       "\t[200, 200]  =  -0.193631"
      ]
     },
     "execution_count": 107,
     "metadata": {},
     "output_type": "execute_result"
    }
   ],
   "source": [
    "@time solShootFast = DiffCovActiveShooting(hSx, hSy, lambda*ones(p,p), optTol=1e-7)"
   ]
  },
  {
   "cell_type": "code",
   "execution_count": 108,
   "metadata": {
    "collapsed": false
   },
   "outputs": [
    {
     "data": {
      "text/plain": [
       "1.76200985690933e-7"
      ]
     },
     "execution_count": 108,
     "metadata": {},
     "output_type": "execute_result"
    }
   ],
   "source": [
    "maximum(abs(tril(solShoot-solShootFast)))"
   ]
  },
  {
   "cell_type": "code",
   "execution_count": 98,
   "metadata": {
    "collapsed": false
   },
   "outputs": [
    {
     "data": {
      "text/plain": [
       "7x7 Array{Float64,2}:\n",
       " 0.0        0.363742   0.0        0.0        0.0        0.0  0.0\n",
       " 0.363742  -0.235062   0.323915   0.0        0.0        0.0  0.0\n",
       " 0.0        0.323915  -0.16835    0.353804   0.0        0.0  0.0\n",
       " 0.0        0.0        0.353804  -0.459889   0.474936   0.0  0.0\n",
       " 0.0        0.0        0.0        0.474936  -0.0387662  0.0  0.0\n",
       " 0.0        0.0        0.0        0.0        0.0        0.0  0.0\n",
       " 0.0        0.0        0.0        0.0        0.0        0.0  0.0"
      ]
     },
     "execution_count": 98,
     "metadata": {},
     "output_type": "execute_result"
    }
   ],
   "source": [
    "solShoot[1:7,1:7]"
   ]
  },
  {
   "cell_type": "code",
   "execution_count": null,
   "metadata": {
    "collapsed": true
   },
   "outputs": [],
   "source": []
  }
 ],
 "metadata": {
  "kernelspec": {
   "display_name": "Julia 0.3.7-pre",
   "language": "julia",
   "name": "julia 0.3"
  },
  "language_info": {
   "name": "julia",
   "version": "0.3.7"
  }
 },
 "nbformat": 4,
 "nbformat_minor": 0
}
