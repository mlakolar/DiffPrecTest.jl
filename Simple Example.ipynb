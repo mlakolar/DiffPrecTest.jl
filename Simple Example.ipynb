{
 "cells": [
  {
   "cell_type": "markdown",
   "metadata": {},
   "source": [
    "## Difference Project"
   ]
  },
  {
   "cell_type": "markdown",
   "metadata": {},
   "source": [
    "Some useful utility function."
   ]
  },
  {
   "cell_type": "code",
   "execution_count": 1,
   "metadata": {
    "collapsed": false
   },
   "outputs": [
    {
     "name": "stdout",
     "output_type": "stream",
     "text": [
      "SoftThreshold(3,1) => 2\n",
      "SoftThreshold(-3,1) => -2\n",
      "SoftThreshold(-0.5,1) => 0.0\n"
     ]
    }
   ],
   "source": [
    "function SoftThreshold(z, lambda)\n",
    "    abs(z) < lambda ? 0. : z > 0 ? z - lambda : z + lambda\n",
    "end\n",
    "\n",
    "@show SoftThreshold(3, 1)\n",
    "@show SoftThreshold(-3, 1)\n",
    "@show SoftThreshold(-0.5, 1);"
   ]
  },
  {
   "cell_type": "markdown",
   "metadata": {},
   "source": [
    "Generate data and compute precision matrices"
   ]
  },
  {
   "cell_type": "code",
   "execution_count": 2,
   "metadata": {
    "collapsed": true
   },
   "outputs": [],
   "source": [
    "p = 30\n",
    "Sigmax = eye(p,p)\n",
    "Sigmay = eye(p,p)\n",
    "Sigmay[1,2] = 0.5\n",
    "Sigmay[2,1] = 0.5\n",
    "\n",
    "sqmy = sqrtm(Sigmay)\n",
    "\n",
    "n = 1000\n",
    "X = randn(n,p)\n",
    "Y = randn(n,p) * sqmy;\n",
    "\n",
    "hSx = cov(X, corrected=false)\n",
    "hSy = cov(Y, corrected=false);"
   ]
  },
  {
   "cell_type": "markdown",
   "metadata": {},
   "source": [
    "Solve the problem using Convex and Mosek for comparison purposes"
   ]
  },
  {
   "cell_type": "code",
   "execution_count": 3,
   "metadata": {
    "collapsed": true
   },
   "outputs": [],
   "source": [
    "using Convex\n",
    "using Mosek\n",
    "\n",
    "solver = MosekSolver(LOG=1)\n",
    "set_default_solver(solver);"
   ]
  },
  {
   "cell_type": "code",
   "execution_count": 23,
   "metadata": {
    "collapsed": false
   },
   "outputs": [
    {
     "name": "stdout",
     "output_type": "stream",
     "text": [
      "Computer\n",
      "  Platform               : Linux/64-X86    \n",
      "  Cores                  : 4               \n",
      "\n",
      "Problem\n",
      "  Name                   :                 \n",
      "  Objective sense        : min             \n",
      "  Type                   : CONIC (conic optimization problem)\n",
      "  Constraints            : 3606            \n",
      "  Cones                  : 2               \n",
      "  Scalar variables       : 2707            \n",
      "  Matrix variables       : 0               \n",
      "  Integer variables      : 0               \n",
      "\n",
      "Optimizer started.\n",
      "Conic interior-point optimizer started.\n",
      "Presolve started.\n",
      "Linear dependency checker started.\n",
      "Linear dependency checker terminated.\n",
      "Eliminator started.\n",
      "Total number of eliminations : 901\n",
      "Eliminator terminated.\n",
      "Eliminator started.\n",
      "Total number of eliminations : 901\n",
      "Eliminator terminated.\n",
      "Eliminator - tries                  : 2                 time                   : 0.00            \n",
      "Eliminator - elim's                 : 901             \n",
      "Lin. dep.  - tries                  : 1                 time                   : 0.01            \n",
      "Lin. dep.  - number                 : 0               \n",
      "Presolve terminated. Time: 0.23    \n",
      "Optimizer  - threads                : 4               \n",
      "Optimizer  - solved problem         : the primal      \n",
      "Optimizer  - Constraints            : 2195\n",
      "Optimizer  - Cones                  : 2\n",
      "Optimizer  - Scalar variables       : 3563              conic                  : 904             \n",
      "Optimizer  - Semi-definite variables: 0                 scalarized             : 0               \n",
      "Factor     - setup time             : 0.58              dense det. time        : 0.06            \n",
      "Factor     - ML order time          : 0.00              GP order time          : 0.00            \n",
      "Factor     - nonzeros before factor : 7.80e+05          after factor           : 1.15e+06        \n",
      "Factor     - dense dim.             : 861               flops                  : 8.83e+08        \n",
      "ITE PFEAS    DFEAS    GFEAS    PRSTATUS   POBJ              DOBJ              MU       TIME  \n",
      "0   7.5e-01  1.0e+00  1.8e+02  0.00e+00   7.215000000e+02   -5.000000000e-01  1.0e+00  0.87  \n",
      "1   7.2e-01  9.7e-01  1.8e+02  8.73e+00   6.204685338e+02   -5.317163833e-01  9.7e-01  0.92  \n",
      "2   7.1e-01  9.5e-01  1.7e+02  7.83e+00   5.754611086e+02   -1.047173521e+00  9.5e-01  0.96  \n",
      "3   7.1e-01  9.5e-01  1.7e+02  7.41e+00   5.582088855e+02   -1.260640065e+00  9.5e-01  1.00  \n",
      "4   7.1e-01  9.4e-01  1.7e+02  7.23e+00   5.508448167e+02   -1.358612254e+00  9.4e-01  1.05  \n",
      "5   7.1e-01  9.4e-01  1.7e+02  7.16e+00   5.455792518e+02   -1.430782841e+00  9.4e-01  1.09  \n",
      "6   7.1e-01  9.4e-01  1.7e+02  7.10e+00   5.402550109e+02   -1.504395962e+00  9.4e-01  1.14  \n",
      "7   7.0e-01  9.4e-01  1.7e+02  7.05e+00   5.344506602e+02   -1.584874590e+00  9.4e-01  1.19  \n",
      "8   7.0e-01  9.4e-01  1.7e+02  6.98e+00   5.280241195e+02   -1.674115216e+00  9.4e-01  1.23  \n",
      "9   7.0e-01  9.3e-01  1.7e+02  6.92e+00   5.208414904e+02   -1.773940127e+00  9.3e-01  1.27  \n",
      "10  7.0e-01  9.3e-01  1.7e+02  6.84e+00   5.127360274e+02   -1.886590616e+00  9.3e-01  1.33  \n",
      "11  7.0e-01  9.3e-01  1.7e+02  6.75e+00   5.035251305e+02   -2.014812371e+00  9.3e-01  1.38  \n",
      "12  6.9e-01  9.2e-01  1.7e+02  6.66e+00   4.945288422e+02   -2.130923928e+00  9.2e-01  1.43  \n",
      "13  6.9e-01  9.2e-01  1.7e+02  6.55e+00   4.866611242e+02   -2.290028199e+00  9.2e-01  1.47  \n",
      "14  6.9e-01  9.2e-01  1.7e+02  6.50e+00   4.799287338e+02   -2.260154056e+00  9.2e-01  1.52  \n",
      "15  6.8e-01  9.1e-01  1.7e+02  6.37e+00   4.576597970e+02   -2.787120156e+00  9.1e-01  1.56  \n",
      "16  6.7e-01  9.0e-01  1.6e+02  6.20e+00   4.349907756e+02   -2.762971534e+00  9.0e-01  1.60  \n",
      "17  6.5e-01  8.7e-01  1.6e+02  5.85e+00   3.837408288e+02   -3.860298193e+00  8.7e-01  1.64  \n",
      "18  6.3e-01  8.4e-01  1.5e+02  5.39e+00   3.389007259e+02   -3.773470704e+00  8.4e-01  1.69  \n",
      "19  5.7e-01  7.6e-01  1.4e+02  4.77e+00   2.402136099e+02   -5.851094611e+00  7.6e-01  1.73  \n",
      "20  4.7e-01  6.2e-01  1.1e+02  3.81e+00   1.499277373e+02   -3.978367157e+00  6.2e-01  1.77  \n",
      "21  2.1e-01  2.8e-01  5.1e+01  2.57e+00   3.844632701e+01   -5.615134338e+00  2.8e-01  1.82  \n",
      "22  6.8e-02  9.1e-02  1.7e+01  1.34e+00   1.097932298e+01   -2.238352614e+00  9.1e-02  1.87  \n",
      "23  5.0e-02  6.7e-02  1.2e+01  8.41e-01   9.033167682e+00   -1.038413597e+00  6.7e-02  1.92  \n",
      "24  3.1e-02  4.1e-02  7.5e+00  1.02e+00   4.802398119e+00   -1.364797437e+00  4.1e-02  1.97  \n",
      "25  1.3e-02  1.8e-02  3.2e+00  8.53e-01   2.716595503e+00   -2.121469487e-01  1.8e-02  2.03  \n",
      "26  3.2e-03  4.3e-03  7.8e-01  1.00e+00   5.940644391e-01   -1.206045666e-01  4.3e-03  2.09  \n",
      "27  5.8e-04  7.7e-04  1.4e-01  9.80e-01   6.025507582e-02   -7.142747625e-02  7.7e-04  2.14  \n",
      "28  3.3e-05  4.3e-05  7.9e-03  1.00e+00   -5.958121589e-02  -6.701982571e-02  4.3e-05  2.18  \n",
      "29  2.4e-06  3.2e-06  5.7e-04  1.00e+00   -6.622513574e-02  -6.676704767e-02  3.2e-06  2.22  \n",
      "30  3.0e-07  4.0e-07  7.2e-05  1.00e+00   -6.667933753e-02  -6.674736584e-02  4.0e-07  2.26  \n",
      "31  1.9e-07  2.5e-07  4.6e-05  1.00e+00   -6.670242461e-02  -6.674607343e-02  2.5e-07  2.32  \n",
      "32  1.9e-07  2.5e-07  4.6e-05  9.99e-01   -6.670248759e-02  -6.674606973e-02  2.5e-07  2.38  \n",
      "33  1.9e-07  2.5e-07  4.6e-05  1.02e+00   -6.670248797e-02  -6.674606971e-02  2.5e-07  2.45  \n",
      "34  1.9e-07  2.5e-07  4.6e-05  1.06e+00   -6.670248797e-02  -6.674606971e-02  2.5e-07  2.49  \n",
      "Interior-point optimizer terminated. Time: 2.49. \n",
      "\n",
      "Optimizer terminated. Time: 2.51    \n",
      "elapsed time: 2.927050091 seconds (425033740 bytes allocated, 6.47% gc time)\n"
     ]
    },
    {
     "data": {
      "text/plain": [
       "30x30 Array{Float64,2}:\n",
       " -0.00088797   0.257462    3.59289e-7  …   2.20578e-7   3.34436e-7\n",
       "  0.257462    -4.12929e-7  1.98721e-7      2.81931e-7   4.50355e-7\n",
       "  3.59393e-7   1.98733e-7  2.37406e-7      3.28745e-7   1.68113e-7\n",
       "  3.96692e-7   2.85966e-7  3.69161e-7      3.70942e-7   2.74786e-7\n",
       "  2.53321e-7   8.97013e-8  4.58873e-7      2.34008e-7   3.02452e-7\n",
       "  1.45265e-7   1.89976e-7  2.44157e-7  …   3.42738e-7   3.72059e-7\n",
       " -1.99219e-7   6.96321e-9  2.20553e-7      2.39401e-7   1.23979e-7\n",
       " -1.37885e-7   2.27545e-7  3.14888e-7      1.13687e-7   2.30467e-7\n",
       "  6.56971e-7   3.45959e-7  2.71429e-7     -1.72423e-7   2.93402e-7\n",
       " -1.20126e-7   1.71192e-7  3.16529e-7      1.46532e-7   1.83718e-7\n",
       "  3.87697e-7   2.7373e-7   5.36332e-7  …   3.08515e-7   2.35487e-7\n",
       "  1.87029e-7   1.69441e-7  5.45685e-7      1.46594e-7   2.81818e-7\n",
       "  5.28771e-7   3.72469e-7  2.65387e-7      2.15448e-7   3.33824e-8\n",
       "  ⋮                                    ⋱                          \n",
       "  3.40484e-7   8.1304e-7   2.78149e-7      2.72729e-7   2.84999e-7\n",
       "  2.10892e-7   1.4135e-7   1.98777e-7      3.48827e-7   1.99446e-7\n",
       "  3.10463e-7   2.39114e-7  1.35667e-7  …   7.7817e-8    4.45819e-7\n",
       "  2.53016e-7   3.75308e-7  2.78874e-7      1.93374e-7   1.43737e-7\n",
       "  3.17992e-7   1.00899e-7  5.45413e-7      2.57407e-7   2.29931e-7\n",
       "  2.72918e-7   2.44636e-7  3.84947e-7      2.29945e-7  -2.99452e-8\n",
       "  2.94375e-7   1.02399e-7  2.3695e-7       3.01643e-7   7.05774e-7\n",
       "  1.29296e-7   2.59298e-7  2.30385e-7  …   2.71626e-7   2.08962e-7\n",
       "  2.77011e-7   3.29409e-7  3.32377e-7      1.43501e-7   3.32242e-7\n",
       "  1.13608e-7   5.86011e-8  4.12622e-7      3.91275e-7   2.23952e-7\n",
       "  2.20578e-7   2.81908e-7  3.28737e-7      4.48795e-7   1.62094e-7\n",
       "  3.34532e-7   4.5023e-7   1.68097e-7      1.62103e-7   2.71932e-7"
      ]
     },
     "execution_count": 23,
     "metadata": {},
     "output_type": "execute_result"
    }
   ],
   "source": [
    "lambda = 0.2\n",
    "\n",
    "Delta = Variable(p,p);\n",
    "prob = minimize(quad_form(vec(Delta), kron(hSy,hSx)) / 2 - trace((hSy-hSx)*Delta) +  lambda * norm(vec(Delta), 1))\n",
    "prob.constraints += [Delta == Delta']\n",
    "@time solve!(prob)\n",
    "\n",
    "sol = Delta.value"
   ]
  },
  {
   "cell_type": "markdown",
   "metadata": {},
   "source": [
    "Shooting algorithm for the objective"
   ]
  },
  {
   "cell_type": "code",
   "execution_count": 27,
   "metadata": {
    "collapsed": false
   },
   "outputs": [
    {
     "data": {
      "text/plain": [
       "DiffCovShooting (generic function with 2 methods)"
      ]
     },
     "execution_count": 27,
     "metadata": {},
     "output_type": "execute_result"
    }
   ],
   "source": [
    "function DiffCovShooting(hSx, hSy, lambda, Ups; maxIter=2000, optTol=1e-5)\n",
    "    p = size(hSx, 1)\n",
    "        \n",
    "    Delta = zeros(p, p)\n",
    "    A = zeros(p, p)\n",
    "    \n",
    "    iter = 1;\n",
    "    while iter < maxIter    \n",
    "        if mod(iter, 10) == 0\n",
    "            @show \"outer $iter\"\n",
    "        end\n",
    "    \n",
    "        fDone = true\n",
    "        for a=1:p\n",
    "            for b=a:p\n",
    "                if a==b\n",
    "                    # diagonal elements\n",
    "                    x0 = hSx[a,a]*hSy[a,a]/2\n",
    "                    x1 = A[a,a] - hSy[a,a] + hSx[a,a]\n",
    "                    tmp = SoftThreshold(-x1/x0/2 + Delta[a,b], lambda*Ups[a,b] / 2 / x0)\n",
    "                else\n",
    "                    # off-diagonal elements\n",
    "                    x0 = (hSx[a,a]*hSy[b,b] + hSx[b,b]*hSy[a,a])/2 + hSx[a,b]*hSy[a,b]\n",
    "                    x1 = A[a,b] + A[b,a] - 2*(hSy[a,b] - hSx[a,b])\n",
    "                    tmp = SoftThreshold(-x1/x0/2 + Delta[a,b], lambda*Ups[a,b] / x0)\n",
    "                end\n",
    "                \n",
    "                h = tmp - Delta[a,b]\n",
    "                Delta[a,b] = tmp\n",
    "                Delta[b,a] = tmp\n",
    "                if abs(h) > optTol\n",
    "                    fDone = false\n",
    "                end\n",
    "                for j=1:p\n",
    "                    for k=1:p\n",
    "                        if a == b\n",
    "                            A[j,k] = A[j,k] + h * hSx[j,a]*hSy[a,k]\n",
    "                        else                            \n",
    "                            A[j,k] = A[j,k] + h * (hSx[j,a]*hSy[b,k] + hSx[j,b]*hSy[a,k])\n",
    "                        end\n",
    "                    end\n",
    "                end\n",
    "            end\n",
    "        end\n",
    "        \n",
    "        iter = iter + 1;\n",
    "        if fDone\n",
    "            break\n",
    "        end\n",
    "    end\n",
    "    Delta\n",
    "end"
   ]
  },
  {
   "cell_type": "code",
   "execution_count": 28,
   "metadata": {
    "collapsed": false
   },
   "outputs": [
    {
     "name": "stdout",
     "output_type": "stream",
     "text": [
      "elapsed time: 0.048015386 seconds (1372604 bytes allocated)\n"
     ]
    },
    {
     "data": {
      "text/plain": [
       "30x30 Array{Float64,2}:\n",
       " -0.000128943  0.257209  0.0  0.0  0.0  …  0.0  0.0  0.0  0.0  0.0  0.0  0.0\n",
       "  0.257209     0.0       0.0  0.0  0.0     0.0  0.0  0.0  0.0  0.0  0.0  0.0\n",
       "  0.0          0.0       0.0  0.0  0.0     0.0  0.0  0.0  0.0  0.0  0.0  0.0\n",
       "  0.0          0.0       0.0  0.0  0.0     0.0  0.0  0.0  0.0  0.0  0.0  0.0\n",
       "  0.0          0.0       0.0  0.0  0.0     0.0  0.0  0.0  0.0  0.0  0.0  0.0\n",
       "  0.0          0.0       0.0  0.0  0.0  …  0.0  0.0  0.0  0.0  0.0  0.0  0.0\n",
       "  0.0          0.0       0.0  0.0  0.0     0.0  0.0  0.0  0.0  0.0  0.0  0.0\n",
       "  0.0          0.0       0.0  0.0  0.0     0.0  0.0  0.0  0.0  0.0  0.0  0.0\n",
       "  0.0          0.0       0.0  0.0  0.0     0.0  0.0  0.0  0.0  0.0  0.0  0.0\n",
       "  0.0          0.0       0.0  0.0  0.0     0.0  0.0  0.0  0.0  0.0  0.0  0.0\n",
       "  0.0          0.0       0.0  0.0  0.0  …  0.0  0.0  0.0  0.0  0.0  0.0  0.0\n",
       "  0.0          0.0       0.0  0.0  0.0     0.0  0.0  0.0  0.0  0.0  0.0  0.0\n",
       "  0.0          0.0       0.0  0.0  0.0     0.0  0.0  0.0  0.0  0.0  0.0  0.0\n",
       "  ⋮                                     ⋱            ⋮                      \n",
       "  0.0          0.0       0.0  0.0  0.0     0.0  0.0  0.0  0.0  0.0  0.0  0.0\n",
       "  0.0          0.0       0.0  0.0  0.0     0.0  0.0  0.0  0.0  0.0  0.0  0.0\n",
       "  0.0          0.0       0.0  0.0  0.0  …  0.0  0.0  0.0  0.0  0.0  0.0  0.0\n",
       "  0.0          0.0       0.0  0.0  0.0     0.0  0.0  0.0  0.0  0.0  0.0  0.0\n",
       "  0.0          0.0       0.0  0.0  0.0     0.0  0.0  0.0  0.0  0.0  0.0  0.0\n",
       "  0.0          0.0       0.0  0.0  0.0     0.0  0.0  0.0  0.0  0.0  0.0  0.0\n",
       "  0.0          0.0       0.0  0.0  0.0     0.0  0.0  0.0  0.0  0.0  0.0  0.0\n",
       "  0.0          0.0       0.0  0.0  0.0  …  0.0  0.0  0.0  0.0  0.0  0.0  0.0\n",
       "  0.0          0.0       0.0  0.0  0.0     0.0  0.0  0.0  0.0  0.0  0.0  0.0\n",
       "  0.0          0.0       0.0  0.0  0.0     0.0  0.0  0.0  0.0  0.0  0.0  0.0\n",
       "  0.0          0.0       0.0  0.0  0.0     0.0  0.0  0.0  0.0  0.0  0.0  0.0\n",
       "  0.0          0.0       0.0  0.0  0.0     0.0  0.0  0.0  0.0  0.0  0.0  0.0"
      ]
     },
     "execution_count": 28,
     "metadata": {},
     "output_type": "execute_result"
    }
   ],
   "source": [
    "@time solShoot = DiffCovShooting(hSx, hSy, lambda, ones(p,p))"
   ]
  },
  {
   "cell_type": "code",
   "execution_count": 26,
   "metadata": {
    "collapsed": false
   },
   "outputs": [
    {
     "name": "stdout",
     "output_type": "stream",
     "text": [
      "(dot(vec(sol),kron(hSy,hSx) * vec(sol)) / 2 - trace((hSy - hSx) * sol)) + lambda * norm(vec(sol),1) => -0.06669806710727805\n",
      "(dot(vec(solShoot),kron(hSy,hSx) * vec(solShoot)) / 2 - trace((hSy - hSx) * solShoot)) + lambda * norm(vec(solShoot),1) => -0.06674410092749669\n"
     ]
    }
   ],
   "source": [
    "@show dot(vec(sol), kron(hSy,hSx)*vec(sol)) / 2 - trace((hSy-hSx)*sol) +  lambda * norm(vec(sol), 1)\n",
    "@show dot(vec(solShoot), kron(hSy,hSx)*vec(solShoot)) / 2 - trace((hSy-hSx)*solShoot) +  lambda * norm(vec(solShoot), 1);"
   ]
  },
  {
   "cell_type": "markdown",
   "metadata": {},
   "source": [
    "Implementation of the active shooting algorithm"
   ]
  },
  {
   "cell_type": "code",
   "execution_count": null,
   "metadata": {
    "collapsed": true
   },
   "outputs": [],
   "source": [
    "function updateDelta!(Delta, hSx, hSy, A, lambda; maxIter=2000, optTol=1e-5)    \n",
    "    # Delta is a sparse matrix stored in CSC format    \n",
    "    # only diagonal and lower triangular elements are used\n",
    "    \n",
    "    # extract fields from sparse matrix Delta \n",
    "    colptr = Delta.colptr\n",
    "    nzval = Delta.nzval\n",
    "    rowval = Delta.rowval\n",
    "    \n",
    "    p = size(Delta, 1)\n",
    "    \n",
    "    iter = 1\n",
    "    while iter <= maxIter\n",
    "       if mod(iter, 10) == 0\n",
    "            @show \"inner $iter\"\n",
    "        end\n",
    "        \n",
    "        fDone = true\n",
    "        for colInd=1:p\n",
    "            for j=colptr[colInd]:colptr[colInd+1]-1\n",
    "                rowInd = rowval[j]\n",
    "                \n",
    "                # a sanity check in \n",
    "                if rowInd < colInd\n",
    "                    continue\n",
    "                end\n",
    "                \n",
    "                if rowInd==colInd\n",
    "                    # diagonal elements\n",
    "                    x0 = hSx[rowInd,rowInd]*hSy[rowInd,rowInd]/2\n",
    "                    x1 = A[rowInd,rowInd] - hSy[rowInd,rowInd] + hSx[rowInd,rowInd]\n",
    "                    tmp = SoftThreshold(-x1/x0/2 + nzval[j], lambda[rowInd,colInd] / 2 / x0)\n",
    "                else\n",
    "                    # off-diagonal elements\n",
    "                    x0 = (hSx[rowInd,rowInd]*hSy[colInd,colInd] + hSx[colInd,colInd]*hSy[rowInd,rowInd])/2 \n",
    "                              + hSx[rowInd,colInd]*hSy[rowInd,colInd]\n",
    "                    x1 = A[rowInd,colInd] + A[colInd,rowInd] - 2*(hSy[rowInd,colInd] - hSx[rowInd,colInd])\n",
    "                    tmp = SoftThreshold(-x1/x0/2 + nzval[j], lambda[rowInd,colInd] / x0)\n",
    "                end\n",
    "                \n",
    "                # size of update\n",
    "                h = tmp - nzval[j]\n",
    "                # update is too big -- not done\n",
    "                if abs(h) > optTol\n",
    "                    fDone = false\n",
    "                end                \n",
    "                # update Delta\n",
    "                nzval[j] = tmp   \n",
    "                \n",
    "                # update A -- only active set\n",
    "                for ci=1:p\n",
    "                    for k=colptr[ci]:colptr[ci+1]-1\n",
    "                        ri = rowval[k]\n",
    "                        \n",
    "                        if rowInd == colInd                                     \n",
    "                            A[ri,ci] = A[ri,ci] + h * hSx[ri,rowInd]*hSy[rowInd,ci]\n",
    "                            if ri != ci\n",
    "                                A[ci,ri] = A[ci,ri] + h * hSx[ci,rowInd]*hSy[rowInd,ri]\n",
    "                            end\n",
    "                        else\n",
    "                            A[ri,ci] = A[ri,ci] + h * (hSx[ri,colInd]*hSy[rowInd,ci] + hSx[ri,rowInd]*hSy[colInd,ci])\n",
    "                            if ri != ci\n",
    "                                A[ci,ri] = A[ci,ri] + h * (hSx[ci,colInd]*hSy[rowInd,ri] + hSx[ci,rowInd]*hSy[colInd,ri])\n",
    "                            end                            \n",
    "                        end\n",
    "                    end\n",
    "                end   # end update A                \n",
    "            end\n",
    "        end            \n",
    "        \n",
    "        iter = iter + 1;\n",
    "        if fDone\n",
    "            break\n",
    "        end\n",
    "        \n",
    "    end  # while\n",
    "    \n",
    "    Delta\n",
    "end\n",
    "\n",
    "function findViolator!(active_set, Delta, hSx, hSy)   \n",
    "    p = size(hSx, 1)\n",
    "    \n",
    "    val = 0\n",
    "    ind = 0\n",
    "    for ic=1:p\n",
    "        for ir=ic:p\n",
    "            cInd = (ic-1)*p + ir\n",
    "            if findfirst(active_set, cInd) != 0\n",
    "                continue\n",
    "            end\n",
    "            \n",
    "        \n",
    "            S0 = -Xy[j]\n",
    "            for k = active_set\n",
    "                S0 += XtX[j, k]*beta[k]\n",
    "            end\n",
    "            if abs(S0) > lambda\n",
    "                if abs(S0) > val \n",
    "                    val = abs(S0);\n",
    "                    ind = j;\n",
    "                end\n",
    "            end\n",
    "        end\n",
    "    \n",
    "end\n",
    "\n",
    "function DiffCovActiveShooting(hSx, hSy, lambda; maxIter=1000, maxInnerIter=1000, optTol=1e-5, Delta = [])\n",
    "    p = size(hSx, 1)\n",
    "        \n",
    "    if isempty(Delta)\n",
    "        Delta = sparse(p, p)\n",
    "        A = zeros(p, p)\n",
    "        \n",
    "        active_set = []\n",
    "        findViolator!(active_set, Delta, hSx, hSy)    \n",
    "    else\n",
    "        lDelta = tril(Delta, -1)\n",
    "        dDelta = spdiagm(diag(Delta))\n",
    "        A = hSx * (lDelta + lDelta' + dDelta) * hSy\n",
    "        \n",
    "        # make sure Delta is lower triangular\n",
    "        Delta = lDelta + dDelta\n",
    "        active_set = find(Delta)\n",
    "    end     \n",
    "    \n",
    "    \n",
    "    \n",
    "    iter = 1;\n",
    "    while iter < maxIter    \n",
    "        if mod(iter, 10) == 0\n",
    "            @show \"outer $iter\"\n",
    "        end\n",
    "    \n",
    "        old_active_set = copy(active_set)\n",
    "        updateDelta!(Delta, hSx, hSy, A, lambda; maxInnerIter=maxInnerIter, optTol=optTol)\n",
    "        findViolator!(active_set, Delta, hSx, hSy)        \n",
    "        \n",
    "        if old_active_set == active_set\n",
    "            break\n",
    "        end\n",
    "        \n",
    "        iter = iter + 1;\n",
    "        # update A\n",
    "        lDelta = tril(Delta, -1)\n",
    "        dDelta = spdiagm(diag(Delta))\n",
    "        A = hSx * (lDelta + lDelta' + dDelta) * hSy      \n",
    "        \n",
    "    end\n",
    "    Delta\n",
    "en"
   ]
  }
 ],
 "metadata": {
  "kernelspec": {
   "display_name": "Julia 0.3.7-pre",
   "language": "julia",
   "name": "julia 0.3"
  },
  "language_info": {
   "name": "julia",
   "version": "0.3.7"
  }
 },
 "nbformat": 4,
 "nbformat_minor": 0
}
