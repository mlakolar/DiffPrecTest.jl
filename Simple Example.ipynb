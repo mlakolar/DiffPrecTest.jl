{
 "cells": [
  {
   "cell_type": "markdown",
   "metadata": {},
   "source": [
    "## Difference Project"
   ]
  },
  {
   "cell_type": "markdown",
   "metadata": {},
   "source": [
    "Some useful utility function."
   ]
  },
  {
   "cell_type": "code",
   "execution_count": 1,
   "metadata": {
    "collapsed": false
   },
   "outputs": [
    {
     "name": "stdout",
     "output_type": "stream",
     "text": [
      "SoftThreshold(3,1) = 2\n",
      "SoftThreshold(-3,1) = -2\n",
      "SoftThreshold(-0.5,1) = 0.0\n"
     ]
    }
   ],
   "source": [
    "function SoftThreshold(z, lambda)\n",
    "    abs(z) < lambda ? 0. : z > 0 ? z - lambda : z + lambda\n",
    "end\n",
    "\n",
    "@show SoftThreshold(3, 1)\n",
    "@show SoftThreshold(-3, 1)\n",
    "@show SoftThreshold(-0.5, 1);"
   ]
  },
  {
   "cell_type": "markdown",
   "metadata": {},
   "source": [
    "Generate data and compute precision matrices"
   ]
  },
  {
   "cell_type": "code",
   "execution_count": 35,
   "metadata": {
    "collapsed": false
   },
   "outputs": [],
   "source": [
    "p = 200\n",
    "Sigmax = eye(p,p)\n",
    "Sigmay = zeros(p,p)\n",
    "rho = 0.7\n",
    "for i=1:p\n",
    "    for j=1:p\n",
    "        Sigmay[i,j]=rho^abs(i-j)\n",
    "    end\n",
    "end\n",
    "\n",
    "sqmy = sqrtm(Sigmay)\n",
    "\n",
    "n = 1000\n",
    "X = randn(n,p)\n",
    "Y = randn(n,p) * sqmy;\n",
    "\n",
    "hSx = cov(X)\n",
    "hSy = cov(Y);"
   ]
  },
  {
   "cell_type": "code",
   "execution_count": 15,
   "metadata": {
    "collapsed": false
   },
   "outputs": [
    {
     "data": {
      "text/plain": [
       "5×5 Array{Float64,2}:\n",
       " -0.960784      1.37255      -8.59879e-17  -8.59879e-17   7.61918e-17\n",
       "  1.37255      -1.92157       1.37255       1.52384e-16  -2.86263e-16\n",
       " -3.85334e-16   1.37255      -1.92157       1.37255       4.00551e-16\n",
       " -5.48809e-17   1.99154e-16   1.37255      -1.92157       1.37255    \n",
       "  1.28117e-16  -2.21414e-16   3.65688e-16   1.37255      -1.92157    "
      ]
     },
     "execution_count": 15,
     "metadata": {},
     "output_type": "execute_result"
    }
   ],
   "source": [
    "B = inv(Sigmax) - inv(Sigmay)\n",
    "B[1:5,1:5]"
   ]
  },
  {
   "cell_type": "markdown",
   "metadata": {},
   "source": [
    "Solve the problem using Convex and Mosek for comparison purposes"
   ]
  },
  {
   "cell_type": "code",
   "execution_count": 18,
   "metadata": {
    "collapsed": false
   },
   "outputs": [],
   "source": [
    "using Convex\n",
    "using Mosek\n",
    "\n",
    "solver = MosekSolver(LOG=1)\n",
    "set_default_solver(solver);"
   ]
  },
  {
   "cell_type": "code",
   "execution_count": 19,
   "metadata": {
    "collapsed": false
   },
   "outputs": [
    {
     "name": "stdout",
     "output_type": "stream",
     "text": [
      "Computer\n",
      "  Platform               : Linux/64-X86    \n",
      "\n",
      "Problem\n",
      "  Name                   :                 \n",
      "  Objective sense        : min             \n",
      "  Type                   : CONIC (conic optimization problem)\n",
      "  Constraints            : 1606            \n",
      "  Cones                  : 2               \n",
      "  Scalar variables       : 1207            \n",
      "  Matrix variables       : 0               \n",
      "  Integer variables      : 0               \n",
      "\n",
      "Optimizer started.\n",
      "Conic interior-point optimizer started.\n",
      "Presolve started.\n",
      "Linear dependency checker started.\n",
      "Linear dependency checker terminated.\n",
      "Eliminator started.\n",
      "Total number of eliminations : 401\n",
      "Eliminator terminated.\n",
      "Eliminator started.\n",
      "Total number of eliminations : 401\n",
      "Eliminator terminated.\n",
      "Eliminator - tries                  : 2                 time                   : 0.00            \n",
      "Eliminator - elim's                 : 401             \n",
      "Lin. dep.  - tries                  : 1                 time                   : 0.00            \n",
      "Lin. dep.  - number                 : 0               \n",
      "Presolve terminated. Time: 0.05    \n",
      "Optimizer  - threads                : 2               \n",
      "Optimizer  - solved problem         : the primal      \n",
      "Optimizer  - Constraints            : 861\n",
      "Optimizer  - Cones                  : 2\n",
      "Optimizer  - Scalar variables       : 1474              conic                  : 404             \n",
      "Optimizer  - Semi-definite variables: 0                 scalarized             : 0               \n",
      "Factor     - setup time             : 0.08              dense det. time        : 0.00            \n",
      "Factor     - ML order time          : 0.01              GP order time          : 0.00            \n",
      "Factor     - nonzeros before factor : 2.66e+05          after factor           : 2.81e+05        \n",
      "Factor     - dense dim.             : 1                 flops                  : 1.55e+08        \n",
      "ITE PFEAS    DFEAS    GFEAS    PRSTATUS   POBJ              DOBJ              MU       TIME  \n",
      "0   7.5e-01  1.1e+00  4.1e+01  0.00e+00   3.215000000e+02   -5.000000000e-01  1.0e+00  0.16  \n",
      "1   7.3e-01  1.0e+00  4.0e+01  9.75e+00   2.501564705e+02   -5.505316059e-01  9.7e-01  0.20  \n",
      "2   7.1e-01  1.0e+00  3.9e+01  8.61e+00   2.028217436e+02   -1.586248295e+00  9.5e-01  0.22  \n",
      "3   7.0e-01  1.0e+00  3.9e+01  7.35e+00   1.860573633e+02   -1.957450781e+00  9.3e-01  0.24  \n",
      "4   6.9e-01  9.9e-01  3.8e+01  6.70e+00   1.758684387e+02   -2.072390940e+00  9.3e-01  0.27  \n",
      "5   6.8e-01  9.7e-01  3.7e+01  6.43e+00   1.514159529e+02   -3.033122838e+00  9.1e-01  0.29  \n",
      "6   6.7e-01  9.6e-01  3.7e+01  5.74e+00   1.392746115e+02   -3.201190781e+00  8.9e-01  0.31  \n",
      "7   6.5e-01  9.3e-01  3.6e+01  5.46e+00   1.132641851e+02   -4.299859297e+00  8.6e-01  0.35  \n",
      "8   6.3e-01  9.0e-01  3.5e+01  4.66e+00   1.013714217e+02   -4.405240789e+00  8.4e-01  0.38  \n",
      "9   5.9e-01  8.4e-01  3.2e+01  4.41e+00   7.236441616e+01   -5.704054462e+00  7.8e-01  0.42  \n",
      "10  5.4e-01  7.8e-01  3.0e+01  3.48e+00   5.886023252e+01   -5.675533593e+00  7.3e-01  0.45  \n",
      "11  4.1e-01  5.9e-01  2.3e+01  3.18e+00   2.645065422e+01   -6.659185164e+00  5.5e-01  0.50  \n",
      "12  1.4e-01  2.0e-01  7.8e+00  2.10e+00   1.908185337e+00   -5.375938982e+00  1.9e-01  0.55  \n",
      "13  4.7e-02  6.7e-02  2.6e+00  1.17e+00   -3.220721908e+00  -5.567768141e+00  6.2e-02  0.59  \n",
      "14  1.6e-02  2.3e-02  8.9e-01  9.58e-01   -4.694198564e+00  -5.540523255e+00  2.2e-02  0.62  \n",
      "15  6.8e-03  9.6e-03  3.7e-01  9.44e-01   -5.211364539e+00  -5.588670563e+00  9.0e-03  0.66  \n",
      "16  3.4e-03  4.9e-03  1.9e-01  8.91e-01   -5.354113809e+00  -5.557756127e+00  4.5e-03  0.69  \n",
      "17  6.6e-04  9.4e-04  3.6e-02  9.90e-01   -5.553262819e+00  -5.595987961e+00  8.8e-04  0.73  \n",
      "18  1.2e-04  1.7e-04  6.7e-03  9.75e-01   -5.589867878e+00  -5.598072414e+00  1.6e-04  0.78  \n",
      "19  7.9e-06  1.1e-05  4.3e-04  9.99e-01   -5.599105449e+00  -5.599639967e+00  1.0e-05  0.82  \n",
      "20  4.3e-07  6.2e-07  2.4e-05  1.00e+00   -5.599708837e+00  -5.599738194e+00  5.7e-07  0.86  \n",
      "21  5.3e-08  1.8e-08  7.7e-07  1.00e+00   -5.599742476e+00  -5.599743436e+00  1.7e-08  0.89  \n",
      "Interior-point optimizer terminated. Time: 0.89. \n",
      "\n",
      "Optimizer terminated. Time: 0.90    \n",
      "  1.720973 seconds (136.76 k allocations: 57.008 MB, 0.47% gc time)\n"
     ]
    },
    {
     "data": {
      "text/plain": [
       "20×20 Array{Float64,2}:\n",
       " -0.194094     0.656217     3.68185e-8  …   6.26885e-9    1.0917e-8 \n",
       "  0.656217    -0.586282     0.671745        6.88177e-9    7.42906e-9\n",
       "  3.68191e-8   0.671745    -0.695651        9.68325e-9    2.51778e-8\n",
       "  5.24489e-8   1.42774e-7   0.758148        1.32818e-8    1.97006e-8\n",
       "  1.2774e-8    1.98271e-8   2.73477e-8      2.02056e-8    1.59234e-8\n",
       "  1.54955e-8   6.50583e-8   2.85802e-8  …   1.45964e-8    1.30684e-8\n",
       "  2.80326e-8   5.0776e-8    3.18651e-8      5.02339e-10   1.87989e-9\n",
       "  1.67787e-8   9.30505e-8   2.11904e-8      5.3961e-9     2.33064e-8\n",
       "  3.83328e-8   3.87108e-8   3.05129e-8     -2.30296e-8    1.56644e-8\n",
       "  1.81474e-8   2.40762e-8   2.6495e-8       9.96472e-9    1.72882e-8\n",
       "  1.76739e-8   3.66469e-8   1.92273e-8  …   1.49561e-8    1.20307e-8\n",
       "  1.77859e-8   1.95918e-8   3.19555e-8      2.14175e-8    1.30568e-8\n",
       "  1.2779e-8    1.57516e-8   1.8672e-8       3.52469e-8    7.4844e-9 \n",
       "  5.17417e-9   1.8021e-8    2.18106e-8      1.80258e-8    1.82884e-8\n",
       " -1.12141e-8   1.59731e-8   1.46019e-8      2.08474e-8    1.7993e-8 \n",
       "  6.99953e-9   1.50096e-8   1.35188e-8  …   1.59098e-8    1.76898e-8\n",
       "  1.02248e-8   2.15236e-8   2.16258e-8      7.18098e-8    3.12573e-8\n",
       "  4.10332e-9   3.27598e-9   5.24592e-9      0.647715      4.0011e-8 \n",
       "  6.26885e-9   6.88177e-9   9.68325e-9     -0.822903      0.711215  \n",
       "  1.09172e-8   7.42904e-9   2.51777e-8      0.711215     -0.372253  "
      ]
     },
     "execution_count": 19,
     "metadata": {},
     "output_type": "execute_result"
    }
   ],
   "source": [
    "lambda = 0.2\n",
    "\n",
    "Delta = Variable(p,p);\n",
    "prob = minimize(quadform(vec(Delta), kron(hSy,hSx)) / 2 - trace((hSy-hSx)*Delta) +  lambda * norm(vec(Delta), 1))\n",
    "prob.constraints += [Delta == Delta']\n",
    "@time solve!(prob)\n",
    "\n",
    "sol = Delta.value"
   ]
  },
  {
   "cell_type": "markdown",
   "metadata": {},
   "source": [
    "Shooting algorithm for the objective"
   ]
  },
  {
   "cell_type": "code",
   "execution_count": 20,
   "metadata": {
    "collapsed": false
   },
   "outputs": [
    {
     "data": {
      "text/plain": [
       "DiffCovShooting (generic function with 1 method)"
      ]
     },
     "execution_count": 20,
     "metadata": {},
     "output_type": "execute_result"
    }
   ],
   "source": [
    "function DiffCovShooting(hSx, hSy, lambda, Ups; maxIter=2000, optTol=1e-7)\n",
    "    p = size(hSx, 1)\n",
    "        \n",
    "    Delta = zeros(p, p)\n",
    "    A = zeros(p, p)\n",
    "    \n",
    "    iter = 1;\n",
    "    while iter < maxIter    \n",
    "        if mod(iter, 10) == 0\n",
    "            @show \"outer $iter\"\n",
    "        end\n",
    "    \n",
    "        fDone = true\n",
    "        for a=1:p\n",
    "            for b=a:p\n",
    "                if a==b\n",
    "                    # diagonal elements\n",
    "                    x0 = hSx[a,a]*hSy[a,a]/2\n",
    "                    x1 = A[a,a] - hSy[a,a] + hSx[a,a]\n",
    "                    tmp = SoftThreshold(-x1/x0/2 + Delta[a,b], lambda*Ups[a,b] / 2 / x0)\n",
    "                else\n",
    "                    # off-diagonal elements\n",
    "                    x0 = (hSx[a,a]*hSy[b,b] + hSx[b,b]*hSy[a,a])/2 + hSx[a,b]*hSy[a,b]\n",
    "                    x1 = A[a,b] + A[b,a] - 2*(hSy[a,b] - hSx[a,b])\n",
    "                    tmp = SoftThreshold(-x1/x0/2 + Delta[a,b], lambda*Ups[a,b] / x0)\n",
    "                end\n",
    "                \n",
    "                h = tmp - Delta[a,b]\n",
    "                Delta[a,b] = tmp\n",
    "                Delta[b,a] = tmp\n",
    "                if abs(h) > optTol\n",
    "                    fDone = false\n",
    "                end\n",
    "                for j=1:p\n",
    "                    for k=1:p\n",
    "                        if a == b\n",
    "                            A[j,k] = A[j,k] + h * hSx[j,a]*hSy[a,k]\n",
    "                        else                            \n",
    "                            A[j,k] = A[j,k] + h * (hSx[j,a]*hSy[b,k] + hSx[j,b]*hSy[a,k])\n",
    "                        end\n",
    "                    end\n",
    "                end\n",
    "            end\n",
    "        end\n",
    "        \n",
    "        iter = iter + 1;\n",
    "        if fDone\n",
    "            break\n",
    "        end\n",
    "    end\n",
    "    Delta\n",
    "end"
   ]
  },
  {
   "cell_type": "code",
   "execution_count": 36,
   "metadata": {
    "collapsed": false
   },
   "outputs": [
    {
     "name": "stdout",
     "output_type": "stream",
     "text": [
      "\"outer $(iter)\" = \"outer 10\"\n",
      "\"outer $(iter)\" = \"outer 20\"\n",
      "\"outer $(iter)\" = \"outer 30\"\n",
      "241.470222 seconds (674 allocations: 1012.250 KB)\n"
     ]
    },
    {
     "data": {
      "text/plain": [
       "200×200 Array{Float64,2}:\n",
       " -0.158825   0.596554   0.0       …   0.0        0.0        0.0     \n",
       "  0.596554  -0.848799   0.648284      0.0        0.0        0.0     \n",
       "  0.0        0.648284  -0.876228      0.0        0.0        0.0     \n",
       "  0.0        0.0        0.721084      0.0        0.0        0.0     \n",
       "  0.0        0.0        0.0           0.0        0.0        0.0     \n",
       "  0.0        0.0        0.0       …   0.0        0.0        0.0     \n",
       "  0.0        0.0        0.0           0.0        0.0        0.0     \n",
       "  0.0        0.0        0.0           0.0        0.0        0.0     \n",
       "  0.0        0.0        0.0           0.0        0.0        0.0     \n",
       "  0.0        0.0        0.0           0.0        0.0        0.0     \n",
       "  0.0        0.0        0.0       …   0.0        0.0        0.0     \n",
       "  0.0        0.0        0.0           0.0        0.0        0.0     \n",
       "  0.0        0.0        0.0           0.0        0.0        0.0     \n",
       "  ⋮                               ⋱                                 \n",
       "  0.0        0.0        0.0           0.0        0.0        0.0     \n",
       "  0.0        0.0        0.0           0.0        0.0        0.0     \n",
       "  0.0        0.0        0.0       …   0.0        0.0        0.0     \n",
       "  0.0        0.0        0.0           0.0        0.0        0.0     \n",
       "  0.0        0.0        0.0           0.0        0.0        0.0     \n",
       "  0.0        0.0        0.0           0.0        0.0        0.0     \n",
       "  0.0        0.0        0.0           0.0        0.0        0.0     \n",
       "  0.0        0.0        0.0       …   0.0        0.0        0.0     \n",
       "  0.0        0.0        0.0           0.753317   0.0        0.0     \n",
       "  0.0        0.0        0.0          -0.698868   0.636046   0.0     \n",
       "  0.0        0.0        0.0           0.636046  -0.703122   0.643334\n",
       "  0.0        0.0        0.0           0.0        0.643334  -0.358323"
      ]
     },
     "execution_count": 36,
     "metadata": {},
     "output_type": "execute_result"
    }
   ],
   "source": [
    "lambda = 0.2\n",
    "@time solShoot = DiffCovShooting(hSx, hSy, lambda, ones(p,p))"
   ]
  },
  {
   "cell_type": "code",
   "execution_count": 22,
   "metadata": {
    "collapsed": false
   },
   "outputs": [
    {
     "data": {
      "text/plain": [
       "7×7 Array{Float64,2}:\n",
       " -0.194102   0.656222   0.0        0.0        0.0        0.0        0.0     \n",
       "  0.656222  -0.586286   0.671748   0.0        0.0        0.0        0.0     \n",
       "  0.0        0.671748  -0.695654   0.758151   0.0        0.0        0.0     \n",
       "  0.0        0.0        0.758151  -0.885963   0.588594   0.0        0.0     \n",
       "  0.0        0.0        0.0        0.588594  -0.630712   0.633719   0.0     \n",
       "  0.0        0.0        0.0        0.0        0.633719  -0.767458   0.735599\n",
       "  0.0        0.0        0.0        0.0        0.0        0.735599  -0.718711"
      ]
     },
     "execution_count": 22,
     "metadata": {},
     "output_type": "execute_result"
    }
   ],
   "source": [
    "solShoot[1:7,1:7]"
   ]
  },
  {
   "cell_type": "code",
   "execution_count": 23,
   "metadata": {
    "collapsed": false
   },
   "outputs": [
    {
     "name": "stdout",
     "output_type": "stream",
     "text": [
      "(dot(vec(sol),kron(hSy,hSx) * vec(sol)) / 2 - trace((hSy - hSx) * sol)) + lambda * norm(vec(sol),1) = -5.599742591346342\n",
      "(dot(vec(solShoot),kron(hSy,hSx) * vec(solShoot)) / 2 - trace((hSy - hSx) * solShoot)) + lambda * norm(vec(solShoot),1) = -5.5997435183754085\n"
     ]
    }
   ],
   "source": [
    "@show dot(vec(sol), kron(hSy,hSx)*vec(sol)) / 2 - trace((hSy-hSx)*sol) +  lambda * norm(vec(sol), 1)\n",
    "@show dot(vec(solShoot), kron(hSy,hSx)*vec(solShoot)) / 2 - trace((hSy-hSx)*solShoot) +  lambda * norm(vec(solShoot), 1);"
   ]
  },
  {
   "cell_type": "markdown",
   "metadata": {},
   "source": [
    "Implementation of the active shooting algorithm"
   ]
  },
  {
   "cell_type": "code",
   "execution_count": 24,
   "metadata": {
    "collapsed": false
   },
   "outputs": [
    {
     "data": {
      "text/plain": [
       "DiffCovActiveShooting (generic function with 1 method)"
      ]
     },
     "execution_count": 24,
     "metadata": {},
     "output_type": "execute_result"
    }
   ],
   "source": [
    "function updateDelta!(Delta, hSx, hSy, A, lambda; maxIter=2000, optTol=1e-7)    \n",
    "    # Delta is a sparse matrix stored in CSC format    \n",
    "    # only diagonal and lower triangular elements are used\n",
    "    \n",
    "    # extract fields from sparse matrix Delta \n",
    "    colptr = Delta.colptr\n",
    "    nzval = Delta.nzval\n",
    "    rowval = Delta.rowval\n",
    "    \n",
    "    p = size(Delta, 1)\n",
    "    \n",
    "    iter = 1\n",
    "    while iter <= maxIter\n",
    "       if mod(iter, 100) == 0\n",
    "            @show \"inner $iter\"\n",
    "        end\n",
    "        \n",
    "        fDone = true\n",
    "        for colInd=1:p\n",
    "            for j=colptr[colInd]:colptr[colInd+1]-1\n",
    "                rowInd = rowval[j]\n",
    "                \n",
    "                # a sanity check in \n",
    "                if rowInd < colInd\n",
    "                    continue\n",
    "                end\n",
    "                \n",
    "                if rowInd==colInd\n",
    "                    # diagonal elements\n",
    "                    x0 = hSx[rowInd,rowInd]*hSy[rowInd,rowInd]/2\n",
    "                    x1 = A[rowInd,rowInd] - hSy[rowInd,rowInd] + hSx[rowInd,rowInd]\n",
    "                    tmp = SoftThreshold(-x1/x0/2 + nzval[j], lambda[rowInd,colInd] / 2 / x0)\n",
    "                else\n",
    "                    # off-diagonal elements\n",
    "                    x0 = (hSx[rowInd,rowInd]*hSy[colInd,colInd] + hSx[colInd,colInd]*hSy[rowInd,rowInd])/2 \n",
    "                              + hSx[rowInd,colInd]*hSy[rowInd,colInd]\n",
    "                    x1 = A[rowInd,colInd] + A[colInd,rowInd] - 2*(hSy[rowInd,colInd] - hSx[rowInd,colInd])\n",
    "                    tmp = SoftThreshold(-x1/x0/2 + nzval[j], lambda[rowInd,colInd] / x0)\n",
    "                end\n",
    "                \n",
    "                # size of update\n",
    "                h = tmp - nzval[j]\n",
    "                # update is too big -- not done\n",
    "                if abs(h) > optTol\n",
    "                    fDone = false\n",
    "                end                \n",
    "                # update Delta\n",
    "                nzval[j] = tmp   \n",
    "                \n",
    "                # update A -- only active set\n",
    "                for ci=1:p\n",
    "                    for k=colptr[ci]:colptr[ci+1]-1\n",
    "                        ri = rowval[k]\n",
    "                        \n",
    "                        if rowInd == colInd                                     \n",
    "                            A[ri,ci] = A[ri,ci] + h * hSx[ri,rowInd]*hSy[rowInd,ci]\n",
    "                            if ri != ci\n",
    "                                A[ci,ri] = A[ci,ri] + h * hSx[ci,rowInd]*hSy[rowInd,ri]\n",
    "                            end\n",
    "                        else\n",
    "                            A[ri,ci] = A[ri,ci] + h * (hSx[ri,colInd]*hSy[rowInd,ci] + hSx[ri,rowInd]*hSy[colInd,ci])\n",
    "                            if ri != ci\n",
    "                                A[ci,ri] = A[ci,ri] + h * (hSx[ci,colInd]*hSy[rowInd,ri] + hSx[ci,rowInd]*hSy[colInd,ri])\n",
    "                            end                            \n",
    "                        end\n",
    "                    end\n",
    "                end   # end update A                \n",
    "            end\n",
    "        end            \n",
    "        \n",
    "        iter = iter + 1;\n",
    "        if fDone\n",
    "            break\n",
    "        end\n",
    "        \n",
    "    end  # while\n",
    "    \n",
    "    sparse(Delta)\n",
    "end\n",
    "\n",
    "function findViolator!(active_set, Delta, A, hSx, hSy, lambda; kktTol=1e-7)   \n",
    "    p = size(hSx, 1)\n",
    "    \n",
    "    tmp = abs((A + A') / 2 - (hSy - hSx)) - lambda\n",
    "    ind = indmax(tmp) \n",
    "    if tmp[ind] > kktTol\n",
    "        push!(active_set, ind)\n",
    "        Delta[ind] = eps()\n",
    "    else\n",
    "        ind = 0\n",
    "    end\n",
    "    \n",
    "    return ind    \n",
    "end\n",
    "\n",
    "function DiffCovActiveShooting(hSx, hSy, lambda; maxIter=1000, maxInnerIter=1000, optTol=1e-7, Delta = [])\n",
    "    p = size(hSx, 1)\n",
    "        \n",
    "    if isempty(Delta)\n",
    "        Delta = spzeros(p, p)\n",
    "        A = zeros(p, p)\n",
    "        \n",
    "        active_set = Array(Integer, 0)        \n",
    "        indAdd = findViolator!(active_set, Delta, A, hSx, hSy, lambda)    \n",
    "        if indAdd == 0\n",
    "            return Delta\n",
    "        end\n",
    "    else\n",
    "        lDelta = tril(Delta, -1)\n",
    "        dDelta = spdiagm(diag(Delta))\n",
    "        A = hSx * (lDelta + lDelta' + dDelta) * hSy\n",
    "        \n",
    "        # make sure Delta is lower triangular\n",
    "        Delta = lDelta + dDelta\n",
    "        active_set = find(Delta)\n",
    "    end     \n",
    "    \n",
    "    \n",
    "    \n",
    "    iter = 1;\n",
    "    while iter < maxIter    \n",
    "        if mod(iter, 100) == 0\n",
    "            @show \"outer $iter\"\n",
    "        end\n",
    "    \n",
    "        old_active_set = copy(active_set)\n",
    "        updateDelta!(Delta, hSx, hSy, A, lambda; maxIter=maxInnerIter, optTol=optTol)\n",
    "        active_set = find(Delta)\n",
    "        \n",
    "        # update A\n",
    "        lDelta = tril(Delta, -1)\n",
    "        dDelta = spdiagm(diag(Delta))\n",
    "        A = hSx * (lDelta + lDelta' + dDelta) * hSy\n",
    "        # add violating element into active set \n",
    "        indAdd = findViolator!(active_set, Delta, A, hSx, hSy, lambda)         \n",
    "        \n",
    "        if old_active_set == active_set\n",
    "            break\n",
    "        else\n",
    "        end       \n",
    "        \n",
    "        iter = iter + 1;\n",
    "        \n",
    "    end\n",
    "    Delta\n",
    "end"
   ]
  },
  {
   "cell_type": "code",
   "execution_count": 37,
   "metadata": {
    "collapsed": false
   },
   "outputs": [
    {
     "name": "stdout",
     "output_type": "stream",
     "text": [
      "\"outer $(iter)\" = \"outer 100\"\n",
      "\"outer $(iter)\" = \"outer 200\"\n",
      "\"outer $(iter)\" = \"outer 300\"\n",
      "\"outer $(iter)\" = \"outer 400\"\n",
      " 22.403817 seconds (61.38 k allocations: 1.177 GB, 0.27% gc time)\n"
     ]
    },
    {
     "data": {
      "text/plain": [
       "200×200 sparse matrix with 427 Float64 nonzero entries:\n",
       "\t[1  ,   1]  =  -0.158825\n",
       "\t[2  ,   1]  =  0.596554\n",
       "\t[2  ,   2]  =  -0.848799\n",
       "\t[3  ,   2]  =  0.648284\n",
       "\t[3  ,   3]  =  -0.876228\n",
       "\t[4  ,   3]  =  0.721084\n",
       "\t[4  ,   4]  =  -1.0206\n",
       "\t[5  ,   4]  =  0.816251\n",
       "\t[5  ,   5]  =  -0.86237\n",
       "\t[6  ,   5]  =  0.681295\n",
       "\t⋮\n",
       "\t[195, 195]  =  -0.815069\n",
       "\t[196, 195]  =  0.638504\n",
       "\t[196, 196]  =  -0.814448\n",
       "\t[197, 196]  =  0.825878\n",
       "\t[197, 197]  =  -0.801647\n",
       "\t[198, 197]  =  0.753317\n",
       "\t[198, 198]  =  -0.698868\n",
       "\t[199, 198]  =  0.636046\n",
       "\t[199, 199]  =  -0.703122\n",
       "\t[200, 199]  =  0.643334\n",
       "\t[200, 200]  =  -0.358323"
      ]
     },
     "execution_count": 37,
     "metadata": {},
     "output_type": "execute_result"
    }
   ],
   "source": [
    "@time solShootFast = DiffCovActiveShooting(hSx, hSy, lambda*ones(p,p), optTol=1e-7)"
   ]
  },
  {
   "cell_type": "code",
   "execution_count": 33,
   "metadata": {
    "collapsed": false
   },
   "outputs": [
    {
     "data": {
      "text/plain": [
       "1.606411760279869e-7"
      ]
     },
     "execution_count": 33,
     "metadata": {},
     "output_type": "execute_result"
    }
   ],
   "source": [
    "maximum(abs(tril(solShoot-solShootFast)))"
   ]
  },
  {
   "cell_type": "code",
   "execution_count": 34,
   "metadata": {
    "collapsed": false
   },
   "outputs": [
    {
     "data": {
      "text/plain": [
       "7×7 Array{Float64,2}:\n",
       " -0.194102   0.656222   0.0        0.0        0.0        0.0        0.0     \n",
       "  0.656222  -0.586286   0.671748   0.0        0.0        0.0        0.0     \n",
       "  0.0        0.671748  -0.695654   0.758151   0.0        0.0        0.0     \n",
       "  0.0        0.0        0.758151  -0.885963   0.588594   0.0        0.0     \n",
       "  0.0        0.0        0.0        0.588594  -0.630712   0.633719   0.0     \n",
       "  0.0        0.0        0.0        0.0        0.633719  -0.767458   0.735599\n",
       "  0.0        0.0        0.0        0.0        0.0        0.735599  -0.718711"
      ]
     },
     "execution_count": 34,
     "metadata": {},
     "output_type": "execute_result"
    }
   ],
   "source": [
    "solShoot[1:7,1:7]"
   ]
  },
  {
   "cell_type": "code",
   "execution_count": null,
   "metadata": {
    "collapsed": true
   },
   "outputs": [],
   "source": []
  }
 ],
 "metadata": {
  "kernelspec": {
   "display_name": "Julia 0.5.1-pre",
   "language": "julia",
   "name": "julia-0.5"
  },
  "language_info": {
   "file_extension": ".jl",
   "mimetype": "application/julia",
   "name": "julia",
   "version": "0.5.1"
  }
 },
 "nbformat": 4,
 "nbformat_minor": 0
}
